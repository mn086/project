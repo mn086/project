{
 "cells": [
  {
   "cell_type": "markdown",
   "metadata": {},
   "source": [
    "# Draft analysis \n",
    "\n",
    "---\n",
    "\n",
    "Group name: mn086\n",
    "\n",
    "---\n"
   ]
  },
  {
   "cell_type": "markdown",
   "metadata": {},
   "source": [
    "## Introduction\n",
    "\n",
    "*This section includes an introduction to the project motivation, data, and research question. Include a data dictionary* "
   ]
  },
  {
   "cell_type": "markdown",
   "metadata": {},
   "source": [
    "## Setup"
   ]
  },
  {
   "cell_type": "code",
   "execution_count": 1,
   "metadata": {},
   "outputs": [],
   "source": [
    "import os\n",
    "import pandas as pd"
   ]
  },
  {
   "cell_type": "markdown",
   "metadata": {},
   "source": [
    "## Data"
   ]
  },
  {
   "cell_type": "markdown",
   "metadata": {},
   "source": [
    "## Import data"
   ]
  },
  {
   "cell_type": "code",
   "execution_count": 2,
   "metadata": {},
   "outputs": [],
   "source": [
    "root_raw = os.path.join('..', 'data', 'raw')\n",
    "root_interim = os.path.join('..', 'data', 'interim')\n",
    "\n",
    "data_veh = '46251-0021_de_2020_flat.csv' # PKW Zulassungszahlen\n",
    "data_pop = '12211-Z-03_flat.csv'\n",
    "data_income = 'AI-S-01_flat.csv'\n",
    "data_crash = 'AI013-3_flat.csv'\n",
    "\n",
    "df_veh = pd.read_csv(os.path.join(root_raw, data_veh), sep=\";\", decimal=',' )"
   ]
  },
  {
   "cell_type": "code",
   "execution_count": 3,
   "metadata": {},
   "outputs": [],
   "source": [
    "df_veh = df_veh[['1_variable_attribute_code', '1_variable_attribute_label', '2_variable_attribute_code', '3_variable_attribute_code', 'value']]"
   ]
  },
  {
   "cell_type": "markdown",
   "metadata": {},
   "source": [
    "### Data structure"
   ]
  },
  {
   "cell_type": "code",
   "execution_count": 4,
   "metadata": {},
   "outputs": [
    {
     "data": {
      "text/html": [
       "<div>\n",
       "<style scoped>\n",
       "    .dataframe tbody tr th:only-of-type {\n",
       "        vertical-align: middle;\n",
       "    }\n",
       "\n",
       "    .dataframe tbody tr th {\n",
       "        vertical-align: top;\n",
       "    }\n",
       "\n",
       "    .dataframe thead th {\n",
       "        text-align: right;\n",
       "    }\n",
       "</style>\n",
       "<table border=\"1\" class=\"dataframe\">\n",
       "  <thead>\n",
       "    <tr style=\"text-align: right;\">\n",
       "      <th></th>\n",
       "      <th>1_variable_attribute_code</th>\n",
       "      <th>1_variable_attribute_label</th>\n",
       "      <th>2_variable_attribute_code</th>\n",
       "      <th>3_variable_attribute_code</th>\n",
       "      <th>value</th>\n",
       "    </tr>\n",
       "  </thead>\n",
       "  <tbody>\n",
       "    <tr>\n",
       "      <th>0</th>\n",
       "      <td>9273</td>\n",
       "      <td>Kelheim, Landkreis</td>\n",
       "      <td>KS-PIH</td>\n",
       "      <td>PKW-EURO6D</td>\n",
       "      <td>2</td>\n",
       "    </tr>\n",
       "    <tr>\n",
       "      <th>1</th>\n",
       "      <td>7231</td>\n",
       "      <td>Bernkastel-Wittlich, Landkreis</td>\n",
       "      <td>KS-ELEKTRO</td>\n",
       "      <td>PKW-EURO6DT</td>\n",
       "      <td>-</td>\n",
       "    </tr>\n",
       "    <tr>\n",
       "      <th>2</th>\n",
       "      <td>12063</td>\n",
       "      <td>Havelland, Landkreis</td>\n",
       "      <td>KS-HYBRID</td>\n",
       "      <td>PKW-EURO5</td>\n",
       "      <td>281</td>\n",
       "    </tr>\n",
       "    <tr>\n",
       "      <th>3</th>\n",
       "      <td>6438</td>\n",
       "      <td>Offenbach, Landkreis</td>\n",
       "      <td>KS-SONST</td>\n",
       "      <td>PKW-EURO6-R</td>\n",
       "      <td>-</td>\n",
       "    </tr>\n",
       "    <tr>\n",
       "      <th>4</th>\n",
       "      <td>14523</td>\n",
       "      <td>Vogtlandkreis</td>\n",
       "      <td>KS-GAS</td>\n",
       "      <td>PKW-EURO5</td>\n",
       "      <td>136</td>\n",
       "    </tr>\n",
       "    <tr>\n",
       "      <th>...</th>\n",
       "      <td>...</td>\n",
       "      <td>...</td>\n",
       "      <td>...</td>\n",
       "      <td>...</td>\n",
       "      <td>...</td>\n",
       "    </tr>\n",
       "    <tr>\n",
       "      <th>38075</th>\n",
       "      <td>16076</td>\n",
       "      <td>Greiz, Landkreis</td>\n",
       "      <td>KS-ELEKTRO</td>\n",
       "      <td>PKW-EURO6DT</td>\n",
       "      <td>-</td>\n",
       "    </tr>\n",
       "    <tr>\n",
       "      <th>38076</th>\n",
       "      <td>8316</td>\n",
       "      <td>Emmendingen, Landkreis</td>\n",
       "      <td>NaN</td>\n",
       "      <td>PKW-EURO4</td>\n",
       "      <td>29478</td>\n",
       "    </tr>\n",
       "    <tr>\n",
       "      <th>38077</th>\n",
       "      <td>14625</td>\n",
       "      <td>Bautzen, Landkreis</td>\n",
       "      <td>NaN</td>\n",
       "      <td>PKW-EURO3</td>\n",
       "      <td>13911</td>\n",
       "    </tr>\n",
       "    <tr>\n",
       "      <th>38078</th>\n",
       "      <td>7138</td>\n",
       "      <td>Neuwied, Landkreis</td>\n",
       "      <td>KS-ELEKTRO</td>\n",
       "      <td>PKW-EURO3</td>\n",
       "      <td>-</td>\n",
       "    </tr>\n",
       "    <tr>\n",
       "      <th>38079</th>\n",
       "      <td>9676</td>\n",
       "      <td>Miltenberg, Landkreis</td>\n",
       "      <td>KS-ELEKTRO</td>\n",
       "      <td>PKW-EURO6-R</td>\n",
       "      <td>-</td>\n",
       "    </tr>\n",
       "  </tbody>\n",
       "</table>\n",
       "<p>38080 rows × 5 columns</p>\n",
       "</div>"
      ],
      "text/plain": [
       "       1_variable_attribute_code      1_variable_attribute_label  \\\n",
       "0                           9273              Kelheim, Landkreis   \n",
       "1                           7231  Bernkastel-Wittlich, Landkreis   \n",
       "2                          12063            Havelland, Landkreis   \n",
       "3                           6438            Offenbach, Landkreis   \n",
       "4                          14523                   Vogtlandkreis   \n",
       "...                          ...                             ...   \n",
       "38075                      16076                Greiz, Landkreis   \n",
       "38076                       8316          Emmendingen, Landkreis   \n",
       "38077                      14625              Bautzen, Landkreis   \n",
       "38078                       7138              Neuwied, Landkreis   \n",
       "38079                       9676           Miltenberg, Landkreis   \n",
       "\n",
       "      2_variable_attribute_code 3_variable_attribute_code  value  \n",
       "0                        KS-PIH                PKW-EURO6D      2  \n",
       "1                    KS-ELEKTRO               PKW-EURO6DT      -  \n",
       "2                     KS-HYBRID                 PKW-EURO5    281  \n",
       "3                      KS-SONST               PKW-EURO6-R      -  \n",
       "4                        KS-GAS                 PKW-EURO5    136  \n",
       "...                         ...                       ...    ...  \n",
       "38075                KS-ELEKTRO               PKW-EURO6DT      -  \n",
       "38076                       NaN                 PKW-EURO4  29478  \n",
       "38077                       NaN                 PKW-EURO3  13911  \n",
       "38078                KS-ELEKTRO                 PKW-EURO3      -  \n",
       "38079                KS-ELEKTRO               PKW-EURO6-R      -  \n",
       "\n",
       "[38080 rows x 5 columns]"
      ]
     },
     "execution_count": 4,
     "metadata": {},
     "output_type": "execute_result"
    }
   ],
   "source": [
    "df_veh"
   ]
  },
  {
   "cell_type": "code",
   "execution_count": 5,
   "metadata": {},
   "outputs": [
    {
     "name": "stdout",
     "output_type": "stream",
     "text": [
      "<class 'pandas.core.frame.DataFrame'>\n",
      "RangeIndex: 38080 entries, 0 to 38079\n",
      "Data columns (total 5 columns):\n",
      " #   Column                      Non-Null Count  Dtype \n",
      "---  ------                      --------------  ----- \n",
      " 0   1_variable_attribute_code   38080 non-null  int64 \n",
      " 1   1_variable_attribute_label  38080 non-null  object\n",
      " 2   2_variable_attribute_code   33320 non-null  object\n",
      " 3   3_variable_attribute_code   34272 non-null  object\n",
      " 4   value                       38080 non-null  object\n",
      "dtypes: int64(1), object(4)\n",
      "memory usage: 1.5+ MB\n"
     ]
    }
   ],
   "source": [
    "df_veh.info()"
   ]
  },
  {
   "cell_type": "markdown",
   "metadata": {},
   "source": [
    "### Data corrections"
   ]
  },
  {
   "cell_type": "code",
   "execution_count": 6,
   "metadata": {},
   "outputs": [],
   "source": [
    "df_veh.dropna(inplace=True)"
   ]
  },
  {
   "cell_type": "code",
   "execution_count": 7,
   "metadata": {},
   "outputs": [],
   "source": [
    "# Spaltennamen neu definieren\n",
    "df_veh.rename(columns= {\n",
    "    '1_variable_attribute_code' : 'landkreis_id',\n",
    "    '1_variable_attribute_label': 'landkreis',\n",
    "    '2_variable_attribute_code': 'antrieb',\n",
    "    '3_variable_attribute_code': 'emissionsgruppen',\n",
    "    'value': 'anzahl'\n",
    "    }, inplace=True)"
   ]
  },
  {
   "cell_type": "code",
   "execution_count": 8,
   "metadata": {},
   "outputs": [],
   "source": [
    "df_veh['anzahl']= pd.to_numeric(df_veh['anzahl'], errors='coerce').fillna(0).astype(int)"
   ]
  },
  {
   "cell_type": "code",
   "execution_count": 9,
   "metadata": {},
   "outputs": [
    {
     "name": "stdout",
     "output_type": "stream",
     "text": [
      "<class 'pandas.core.frame.DataFrame'>\n",
      "Index: 29988 entries, 0 to 38079\n",
      "Data columns (total 5 columns):\n",
      " #   Column            Non-Null Count  Dtype \n",
      "---  ------            --------------  ----- \n",
      " 0   landkreis_id      29988 non-null  int64 \n",
      " 1   landkreis         29988 non-null  object\n",
      " 2   antrieb           29988 non-null  object\n",
      " 3   emissionsgruppen  29988 non-null  object\n",
      " 4   anzahl            29988 non-null  int64 \n",
      "dtypes: int64(2), object(3)\n",
      "memory usage: 1.4+ MB\n"
     ]
    }
   ],
   "source": [
    "df_veh.info()"
   ]
  },
  {
   "cell_type": "code",
   "execution_count": 10,
   "metadata": {},
   "outputs": [
    {
     "name": "stdout",
     "output_type": "stream",
     "text": [
      "Spalte 'antrieb' hat folgende Attributausprägungen:\n",
      "['KS-PIH' 'KS-ELEKTRO' 'KS-HYBRID' 'KS-SONST' 'KS-GAS' 'KS-DIESEL'\n",
      " 'KS-BENZIN']\n",
      "----------------------------------------\n",
      "Spalte 'emissionsgruppen' hat folgende Attributausprägungen:\n",
      "['PKW-EURO6D' 'PKW-EURO6DT' 'PKW-EURO5' 'PKW-EURO6-R' 'PKW-EURO1'\n",
      " 'PKW-EURO2' 'PKW-EURO3' 'PKW-SONST' 'PKW-EURO4']\n",
      "----------------------------------------\n"
     ]
    }
   ],
   "source": [
    "# Attributausprägung für kategoriale Attribute anzeigen\n",
    "for col in df_veh[['antrieb', 'emissionsgruppen']].columns:\n",
    "    unique_values = df_veh[col].unique()\n",
    "    print(f\"Spalte '{col}' hat folgende Attributausprägungen:\")\n",
    "    print(unique_values)\n",
    "    print(\"-\" * 40)"
   ]
  },
  {
   "cell_type": "code",
   "execution_count": 11,
   "metadata": {},
   "outputs": [],
   "source": [
    "# Landkreise mit einer Gebietsreform aus dem Datensatz löschen: diese enden beispielsweise mit \"(bis 03.09.2011)\"\n",
    "# Filter: Zeilen löschen, bei denen 'landkreis' mit ')' gefolgt beliebig viele Leerzeichen (inklusive keine) endet\n",
    "df_veh = df_veh[~df_veh['landkreis'].str.contains(r'\\)\\s*$', na=False)]"
   ]
  },
  {
   "cell_type": "code",
   "execution_count": 12,
   "metadata": {},
   "outputs": [],
   "source": [
    "df_veh.to_csv(os.path.join(root_interim, 'veh.csv'))"
   ]
  },
  {
   "cell_type": "code",
   "execution_count": 13,
   "metadata": {},
   "outputs": [
    {
     "data": {
      "text/html": [
       "<div>\n",
       "<style scoped>\n",
       "    .dataframe tbody tr th:only-of-type {\n",
       "        vertical-align: middle;\n",
       "    }\n",
       "\n",
       "    .dataframe tbody tr th {\n",
       "        vertical-align: top;\n",
       "    }\n",
       "\n",
       "    .dataframe thead th {\n",
       "        text-align: right;\n",
       "    }\n",
       "</style>\n",
       "<table border=\"1\" class=\"dataframe\">\n",
       "  <thead>\n",
       "    <tr style=\"text-align: right;\">\n",
       "      <th></th>\n",
       "      <th>landkreis_id</th>\n",
       "      <th>landkreis</th>\n",
       "      <th>anzahl</th>\n",
       "      <th>antrieb_KS-BENZIN</th>\n",
       "      <th>antrieb_KS-DIESEL</th>\n",
       "      <th>antrieb_KS-ELEKTRO</th>\n",
       "      <th>antrieb_KS-GAS</th>\n",
       "      <th>antrieb_KS-HYBRID</th>\n",
       "      <th>antrieb_KS-PIH</th>\n",
       "      <th>antrieb_KS-SONST</th>\n",
       "      <th>eg_PKW-EURO1</th>\n",
       "      <th>eg_PKW-EURO2</th>\n",
       "      <th>eg_PKW-EURO3</th>\n",
       "      <th>eg_PKW-EURO4</th>\n",
       "      <th>eg_PKW-EURO5</th>\n",
       "      <th>eg_PKW-EURO6-R</th>\n",
       "      <th>eg_PKW-EURO6D</th>\n",
       "      <th>eg_PKW-EURO6DT</th>\n",
       "      <th>eg_PKW-SONST</th>\n",
       "    </tr>\n",
       "  </thead>\n",
       "  <tbody>\n",
       "    <tr>\n",
       "      <th>0</th>\n",
       "      <td>9273</td>\n",
       "      <td>Kelheim, Landkreis</td>\n",
       "      <td>2</td>\n",
       "      <td>False</td>\n",
       "      <td>False</td>\n",
       "      <td>False</td>\n",
       "      <td>False</td>\n",
       "      <td>False</td>\n",
       "      <td>True</td>\n",
       "      <td>False</td>\n",
       "      <td>False</td>\n",
       "      <td>False</td>\n",
       "      <td>False</td>\n",
       "      <td>False</td>\n",
       "      <td>False</td>\n",
       "      <td>False</td>\n",
       "      <td>True</td>\n",
       "      <td>False</td>\n",
       "      <td>False</td>\n",
       "    </tr>\n",
       "    <tr>\n",
       "      <th>1</th>\n",
       "      <td>7231</td>\n",
       "      <td>Bernkastel-Wittlich, Landkreis</td>\n",
       "      <td>0</td>\n",
       "      <td>False</td>\n",
       "      <td>False</td>\n",
       "      <td>True</td>\n",
       "      <td>False</td>\n",
       "      <td>False</td>\n",
       "      <td>False</td>\n",
       "      <td>False</td>\n",
       "      <td>False</td>\n",
       "      <td>False</td>\n",
       "      <td>False</td>\n",
       "      <td>False</td>\n",
       "      <td>False</td>\n",
       "      <td>False</td>\n",
       "      <td>False</td>\n",
       "      <td>True</td>\n",
       "      <td>False</td>\n",
       "    </tr>\n",
       "    <tr>\n",
       "      <th>2</th>\n",
       "      <td>12063</td>\n",
       "      <td>Havelland, Landkreis</td>\n",
       "      <td>281</td>\n",
       "      <td>False</td>\n",
       "      <td>False</td>\n",
       "      <td>False</td>\n",
       "      <td>False</td>\n",
       "      <td>True</td>\n",
       "      <td>False</td>\n",
       "      <td>False</td>\n",
       "      <td>False</td>\n",
       "      <td>False</td>\n",
       "      <td>False</td>\n",
       "      <td>False</td>\n",
       "      <td>True</td>\n",
       "      <td>False</td>\n",
       "      <td>False</td>\n",
       "      <td>False</td>\n",
       "      <td>False</td>\n",
       "    </tr>\n",
       "    <tr>\n",
       "      <th>3</th>\n",
       "      <td>6438</td>\n",
       "      <td>Offenbach, Landkreis</td>\n",
       "      <td>0</td>\n",
       "      <td>False</td>\n",
       "      <td>False</td>\n",
       "      <td>False</td>\n",
       "      <td>False</td>\n",
       "      <td>False</td>\n",
       "      <td>False</td>\n",
       "      <td>True</td>\n",
       "      <td>False</td>\n",
       "      <td>False</td>\n",
       "      <td>False</td>\n",
       "      <td>False</td>\n",
       "      <td>False</td>\n",
       "      <td>True</td>\n",
       "      <td>False</td>\n",
       "      <td>False</td>\n",
       "      <td>False</td>\n",
       "    </tr>\n",
       "    <tr>\n",
       "      <th>4</th>\n",
       "      <td>14523</td>\n",
       "      <td>Vogtlandkreis</td>\n",
       "      <td>136</td>\n",
       "      <td>False</td>\n",
       "      <td>False</td>\n",
       "      <td>False</td>\n",
       "      <td>True</td>\n",
       "      <td>False</td>\n",
       "      <td>False</td>\n",
       "      <td>False</td>\n",
       "      <td>False</td>\n",
       "      <td>False</td>\n",
       "      <td>False</td>\n",
       "      <td>False</td>\n",
       "      <td>True</td>\n",
       "      <td>False</td>\n",
       "      <td>False</td>\n",
       "      <td>False</td>\n",
       "      <td>False</td>\n",
       "    </tr>\n",
       "  </tbody>\n",
       "</table>\n",
       "</div>"
      ],
      "text/plain": [
       "   landkreis_id                       landkreis  anzahl  antrieb_KS-BENZIN  \\\n",
       "0          9273              Kelheim, Landkreis       2              False   \n",
       "1          7231  Bernkastel-Wittlich, Landkreis       0              False   \n",
       "2         12063            Havelland, Landkreis     281              False   \n",
       "3          6438            Offenbach, Landkreis       0              False   \n",
       "4         14523                   Vogtlandkreis     136              False   \n",
       "\n",
       "   antrieb_KS-DIESEL  antrieb_KS-ELEKTRO  antrieb_KS-GAS  antrieb_KS-HYBRID  \\\n",
       "0              False               False           False              False   \n",
       "1              False                True           False              False   \n",
       "2              False               False           False               True   \n",
       "3              False               False           False              False   \n",
       "4              False               False            True              False   \n",
       "\n",
       "   antrieb_KS-PIH  antrieb_KS-SONST  eg_PKW-EURO1  eg_PKW-EURO2  eg_PKW-EURO3  \\\n",
       "0            True             False         False         False         False   \n",
       "1           False             False         False         False         False   \n",
       "2           False             False         False         False         False   \n",
       "3           False              True         False         False         False   \n",
       "4           False             False         False         False         False   \n",
       "\n",
       "   eg_PKW-EURO4  eg_PKW-EURO5  eg_PKW-EURO6-R  eg_PKW-EURO6D  eg_PKW-EURO6DT  \\\n",
       "0         False         False           False           True           False   \n",
       "1         False         False           False          False            True   \n",
       "2         False          True           False          False           False   \n",
       "3         False         False            True          False           False   \n",
       "4         False          True           False          False           False   \n",
       "\n",
       "   eg_PKW-SONST  \n",
       "0         False  \n",
       "1         False  \n",
       "2         False  \n",
       "3         False  \n",
       "4         False  "
      ]
     },
     "execution_count": 13,
     "metadata": {},
     "output_type": "execute_result"
    }
   ],
   "source": [
    "# Dummy-Spalten aus kategorialen Atrributen erstellen\n",
    "df_veh = pd.get_dummies(\n",
    "    df_veh, \n",
    "    columns=['antrieb', 'emissionsgruppen'], \n",
    "    prefix={'antrieb': 'antrieb', 'emissionsgruppen': 'eg'}\n",
    ")\n",
    "df_veh.head()"
   ]
  },
  {
   "cell_type": "code",
   "execution_count": 14,
   "metadata": {},
   "outputs": [],
   "source": [
    "# Spaltennamen umwandeln\n",
    "df_veh.columns = df_veh.columns.str.lower().str.replace('ks-', '', regex=False).str.replace('pkw-', '', regex=False)"
   ]
  },
  {
   "cell_type": "code",
   "execution_count": 15,
   "metadata": {},
   "outputs": [
    {
     "name": "stdout",
     "output_type": "stream",
     "text": [
      "<class 'pandas.core.frame.DataFrame'>\n",
      "Index: 25200 entries, 0 to 38079\n",
      "Data columns (total 19 columns):\n",
      " #   Column           Non-Null Count  Dtype \n",
      "---  ------           --------------  ----- \n",
      " 0   landkreis_id     25200 non-null  int64 \n",
      " 1   landkreis        25200 non-null  object\n",
      " 2   anzahl           25200 non-null  int64 \n",
      " 3   antrieb_benzin   25200 non-null  bool  \n",
      " 4   antrieb_diesel   25200 non-null  bool  \n",
      " 5   antrieb_elektro  25200 non-null  bool  \n",
      " 6   antrieb_gas      25200 non-null  bool  \n",
      " 7   antrieb_hybrid   25200 non-null  bool  \n",
      " 8   antrieb_pih      25200 non-null  bool  \n",
      " 9   antrieb_sonst    25200 non-null  bool  \n",
      " 10  eg_euro1         25200 non-null  bool  \n",
      " 11  eg_euro2         25200 non-null  bool  \n",
      " 12  eg_euro3         25200 non-null  bool  \n",
      " 13  eg_euro4         25200 non-null  bool  \n",
      " 14  eg_euro5         25200 non-null  bool  \n",
      " 15  eg_euro6-r       25200 non-null  bool  \n",
      " 16  eg_euro6d        25200 non-null  bool  \n",
      " 17  eg_euro6dt       25200 non-null  bool  \n",
      " 18  eg_sonst         25200 non-null  bool  \n",
      "dtypes: bool(16), int64(2), object(1)\n",
      "memory usage: 1.2+ MB\n"
     ]
    }
   ],
   "source": [
    "df_veh.info()"
   ]
  },
  {
   "cell_type": "markdown",
   "metadata": {},
   "source": [
    "### Variable lists"
   ]
  },
  {
   "cell_type": "code",
   "execution_count": null,
   "metadata": {},
   "outputs": [],
   "source": []
  },
  {
   "cell_type": "markdown",
   "metadata": {},
   "source": [
    "### Data splitting"
   ]
  },
  {
   "cell_type": "code",
   "execution_count": null,
   "metadata": {},
   "outputs": [],
   "source": []
  },
  {
   "cell_type": "markdown",
   "metadata": {},
   "source": [
    "## Analysis"
   ]
  },
  {
   "cell_type": "markdown",
   "metadata": {},
   "source": [
    "### Descriptive statistics"
   ]
  },
  {
   "cell_type": "code",
   "execution_count": null,
   "metadata": {},
   "outputs": [],
   "source": []
  },
  {
   "cell_type": "markdown",
   "metadata": {},
   "source": [
    "### Exploratory data analysis"
   ]
  },
  {
   "cell_type": "code",
   "execution_count": null,
   "metadata": {},
   "outputs": [],
   "source": []
  },
  {
   "cell_type": "markdown",
   "metadata": {},
   "source": [
    "### Relationships"
   ]
  },
  {
   "cell_type": "code",
   "execution_count": null,
   "metadata": {},
   "outputs": [],
   "source": []
  },
  {
   "cell_type": "markdown",
   "metadata": {},
   "source": [
    "## Model"
   ]
  },
  {
   "cell_type": "markdown",
   "metadata": {},
   "source": [
    "### Select model"
   ]
  },
  {
   "cell_type": "code",
   "execution_count": null,
   "metadata": {},
   "outputs": [],
   "source": []
  },
  {
   "cell_type": "markdown",
   "metadata": {},
   "source": [
    "### Training and validation"
   ]
  },
  {
   "cell_type": "code",
   "execution_count": null,
   "metadata": {},
   "outputs": [],
   "source": []
  },
  {
   "cell_type": "markdown",
   "metadata": {},
   "source": [
    "### Fit model"
   ]
  },
  {
   "cell_type": "code",
   "execution_count": null,
   "metadata": {},
   "outputs": [],
   "source": []
  },
  {
   "cell_type": "markdown",
   "metadata": {},
   "source": [
    "### Evaluation on test set"
   ]
  },
  {
   "cell_type": "code",
   "execution_count": null,
   "metadata": {},
   "outputs": [],
   "source": []
  },
  {
   "cell_type": "markdown",
   "metadata": {},
   "source": [
    "### Save model\n"
   ]
  },
  {
   "cell_type": "markdown",
   "metadata": {},
   "source": [
    "\n",
    "Save your model in the folder `models/`. Use a meaningful name and a timestamp."
   ]
  },
  {
   "cell_type": "code",
   "execution_count": null,
   "metadata": {},
   "outputs": [],
   "source": []
  },
  {
   "cell_type": "markdown",
   "metadata": {},
   "source": [
    "## Conclusions"
   ]
  },
  {
   "cell_type": "markdown",
   "metadata": {},
   "source": []
  }
 ],
 "metadata": {
  "kernelspec": {
   "display_name": "analytics",
   "language": "python",
   "name": "python3"
  },
  "language_info": {
   "codemirror_mode": {
    "name": "ipython",
    "version": 3
   },
   "file_extension": ".py",
   "mimetype": "text/x-python",
   "name": "python",
   "nbconvert_exporter": "python",
   "pygments_lexer": "ipython3",
   "version": "3.12.7"
  }
 },
 "nbformat": 4,
 "nbformat_minor": 4
}
