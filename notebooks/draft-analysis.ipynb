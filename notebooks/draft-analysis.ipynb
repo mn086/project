{
 "cells": [
  {
   "cell_type": "markdown",
   "metadata": {},
   "source": [
    "# Draft analysis \n",
    "\n",
    "---\n",
    "\n",
    "Group name: mn086\n",
    "\n",
    "---\n"
   ]
  },
  {
   "cell_type": "markdown",
   "metadata": {},
   "source": [
    "## Introduction\n",
    "\n",
    "*This section includes an introduction to the project motivation, data, and research question. Include a data dictionary* "
   ]
  },
  {
   "cell_type": "markdown",
   "metadata": {},
   "source": [
    "## Setup"
   ]
  },
  {
   "cell_type": "code",
   "execution_count": 1,
   "metadata": {},
   "outputs": [],
   "source": [
    "import os\n",
    "import pandas as pd"
   ]
  },
  {
   "cell_type": "markdown",
   "metadata": {},
   "source": [
    "## Data"
   ]
  },
  {
   "cell_type": "markdown",
   "metadata": {},
   "source": [
    "## Import data"
   ]
  },
  {
   "cell_type": "code",
   "execution_count": 2,
   "metadata": {},
   "outputs": [],
   "source": [
    "root_raw = os.path.join('..', 'data', 'raw')\n",
    "\n",
    "data_veh = '46251-0021_de_2020_flat.csv' # PKW Zulassungszahlen\n",
    "data_pop = '12211-Z-03_flat.csv'\n",
    "data_income = 'AI-S-01_flat.csv'\n",
    "data_crash = 'AI013-3_flat.csv'\n",
    "\n",
    "df_veh = pd.read_csv(os.path.join(root_raw, data_veh), sep=\";\", decimal=',' )"
   ]
  },
  {
   "cell_type": "markdown",
   "metadata": {},
   "source": [
    "### Data structure"
   ]
  },
  {
   "cell_type": "code",
   "execution_count": 3,
   "metadata": {},
   "outputs": [
    {
     "data": {
      "text/html": [
       "<div>\n",
       "<style scoped>\n",
       "    .dataframe tbody tr th:only-of-type {\n",
       "        vertical-align: middle;\n",
       "    }\n",
       "\n",
       "    .dataframe tbody tr th {\n",
       "        vertical-align: top;\n",
       "    }\n",
       "\n",
       "    .dataframe thead th {\n",
       "        text-align: right;\n",
       "    }\n",
       "</style>\n",
       "<table border=\"1\" class=\"dataframe\">\n",
       "  <thead>\n",
       "    <tr style=\"text-align: right;\">\n",
       "      <th></th>\n",
       "      <th>statistics_code</th>\n",
       "      <th>statistics_label</th>\n",
       "      <th>time_code</th>\n",
       "      <th>time_label</th>\n",
       "      <th>time</th>\n",
       "      <th>1_variable_code</th>\n",
       "      <th>1_variable_label</th>\n",
       "      <th>1_variable_attribute_code</th>\n",
       "      <th>1_variable_attribute_label</th>\n",
       "      <th>2_variable_code</th>\n",
       "      <th>...</th>\n",
       "      <th>2_variable_attribute_label</th>\n",
       "      <th>3_variable_code</th>\n",
       "      <th>3_variable_label</th>\n",
       "      <th>3_variable_attribute_code</th>\n",
       "      <th>3_variable_attribute_label</th>\n",
       "      <th>value</th>\n",
       "      <th>value_unit</th>\n",
       "      <th>value_variable_code</th>\n",
       "      <th>value_variable_label</th>\n",
       "      <th>value_q</th>\n",
       "    </tr>\n",
       "  </thead>\n",
       "  <tbody>\n",
       "    <tr>\n",
       "      <th>0</th>\n",
       "      <td>46251</td>\n",
       "      <td>Statistik des Kraftfahrzeug- und Anhängerbesta...</td>\n",
       "      <td>STAG</td>\n",
       "      <td>Stichtag</td>\n",
       "      <td>2020-01-01</td>\n",
       "      <td>KREISE</td>\n",
       "      <td>Kreise</td>\n",
       "      <td>9273</td>\n",
       "      <td>Kelheim, Landkreis</td>\n",
       "      <td>KSTAT1</td>\n",
       "      <td>...</td>\n",
       "      <td>Plug-in-Hybrid</td>\n",
       "      <td>EMIGR1</td>\n",
       "      <td>Emissionsgruppen</td>\n",
       "      <td>PKW-EURO6D</td>\n",
       "      <td>Euro 6d</td>\n",
       "      <td>2</td>\n",
       "      <td>Anzahl</td>\n",
       "      <td>PKW001</td>\n",
       "      <td>Personenkraftwagen</td>\n",
       "      <td>e</td>\n",
       "    </tr>\n",
       "    <tr>\n",
       "      <th>1</th>\n",
       "      <td>46251</td>\n",
       "      <td>Statistik des Kraftfahrzeug- und Anhängerbesta...</td>\n",
       "      <td>STAG</td>\n",
       "      <td>Stichtag</td>\n",
       "      <td>2020-01-01</td>\n",
       "      <td>KREISE</td>\n",
       "      <td>Kreise</td>\n",
       "      <td>7231</td>\n",
       "      <td>Bernkastel-Wittlich, Landkreis</td>\n",
       "      <td>KSTAT1</td>\n",
       "      <td>...</td>\n",
       "      <td>Elektro</td>\n",
       "      <td>EMIGR1</td>\n",
       "      <td>Emissionsgruppen</td>\n",
       "      <td>PKW-EURO6DT</td>\n",
       "      <td>Euro 6d-temp</td>\n",
       "      <td>-</td>\n",
       "      <td>Anzahl</td>\n",
       "      <td>PKW001</td>\n",
       "      <td>Personenkraftwagen</td>\n",
       "      <td>NaN</td>\n",
       "    </tr>\n",
       "    <tr>\n",
       "      <th>2</th>\n",
       "      <td>46251</td>\n",
       "      <td>Statistik des Kraftfahrzeug- und Anhängerbesta...</td>\n",
       "      <td>STAG</td>\n",
       "      <td>Stichtag</td>\n",
       "      <td>2020-01-01</td>\n",
       "      <td>KREISE</td>\n",
       "      <td>Kreise</td>\n",
       "      <td>12063</td>\n",
       "      <td>Havelland, Landkreis</td>\n",
       "      <td>KSTAT1</td>\n",
       "      <td>...</td>\n",
       "      <td>Hybrid (ohne Plug-in)</td>\n",
       "      <td>EMIGR1</td>\n",
       "      <td>Emissionsgruppen</td>\n",
       "      <td>PKW-EURO5</td>\n",
       "      <td>Euro 5</td>\n",
       "      <td>281</td>\n",
       "      <td>Anzahl</td>\n",
       "      <td>PKW001</td>\n",
       "      <td>Personenkraftwagen</td>\n",
       "      <td>e</td>\n",
       "    </tr>\n",
       "    <tr>\n",
       "      <th>3</th>\n",
       "      <td>46251</td>\n",
       "      <td>Statistik des Kraftfahrzeug- und Anhängerbesta...</td>\n",
       "      <td>STAG</td>\n",
       "      <td>Stichtag</td>\n",
       "      <td>2020-01-01</td>\n",
       "      <td>KREISE</td>\n",
       "      <td>Kreise</td>\n",
       "      <td>6438</td>\n",
       "      <td>Offenbach, Landkreis</td>\n",
       "      <td>KSTAT1</td>\n",
       "      <td>...</td>\n",
       "      <td>Sonstige Kraftstoffarten</td>\n",
       "      <td>EMIGR1</td>\n",
       "      <td>Emissionsgruppen</td>\n",
       "      <td>PKW-EURO6-R</td>\n",
       "      <td>Euro 6 (ohne 6d und 6d-temp)</td>\n",
       "      <td>-</td>\n",
       "      <td>Anzahl</td>\n",
       "      <td>PKW001</td>\n",
       "      <td>Personenkraftwagen</td>\n",
       "      <td>NaN</td>\n",
       "    </tr>\n",
       "    <tr>\n",
       "      <th>4</th>\n",
       "      <td>46251</td>\n",
       "      <td>Statistik des Kraftfahrzeug- und Anhängerbesta...</td>\n",
       "      <td>STAG</td>\n",
       "      <td>Stichtag</td>\n",
       "      <td>2020-01-01</td>\n",
       "      <td>KREISE</td>\n",
       "      <td>Kreise</td>\n",
       "      <td>14523</td>\n",
       "      <td>Vogtlandkreis</td>\n",
       "      <td>KSTAT1</td>\n",
       "      <td>...</td>\n",
       "      <td>Gas</td>\n",
       "      <td>EMIGR1</td>\n",
       "      <td>Emissionsgruppen</td>\n",
       "      <td>PKW-EURO5</td>\n",
       "      <td>Euro 5</td>\n",
       "      <td>136</td>\n",
       "      <td>Anzahl</td>\n",
       "      <td>PKW001</td>\n",
       "      <td>Personenkraftwagen</td>\n",
       "      <td>e</td>\n",
       "    </tr>\n",
       "    <tr>\n",
       "      <th>...</th>\n",
       "      <td>...</td>\n",
       "      <td>...</td>\n",
       "      <td>...</td>\n",
       "      <td>...</td>\n",
       "      <td>...</td>\n",
       "      <td>...</td>\n",
       "      <td>...</td>\n",
       "      <td>...</td>\n",
       "      <td>...</td>\n",
       "      <td>...</td>\n",
       "      <td>...</td>\n",
       "      <td>...</td>\n",
       "      <td>...</td>\n",
       "      <td>...</td>\n",
       "      <td>...</td>\n",
       "      <td>...</td>\n",
       "      <td>...</td>\n",
       "      <td>...</td>\n",
       "      <td>...</td>\n",
       "      <td>...</td>\n",
       "      <td>...</td>\n",
       "    </tr>\n",
       "    <tr>\n",
       "      <th>38075</th>\n",
       "      <td>46251</td>\n",
       "      <td>Statistik des Kraftfahrzeug- und Anhängerbesta...</td>\n",
       "      <td>STAG</td>\n",
       "      <td>Stichtag</td>\n",
       "      <td>2020-01-01</td>\n",
       "      <td>KREISE</td>\n",
       "      <td>Kreise</td>\n",
       "      <td>16076</td>\n",
       "      <td>Greiz, Landkreis</td>\n",
       "      <td>KSTAT1</td>\n",
       "      <td>...</td>\n",
       "      <td>Elektro</td>\n",
       "      <td>EMIGR1</td>\n",
       "      <td>Emissionsgruppen</td>\n",
       "      <td>PKW-EURO6DT</td>\n",
       "      <td>Euro 6d-temp</td>\n",
       "      <td>-</td>\n",
       "      <td>Anzahl</td>\n",
       "      <td>PKW001</td>\n",
       "      <td>Personenkraftwagen</td>\n",
       "      <td>NaN</td>\n",
       "    </tr>\n",
       "    <tr>\n",
       "      <th>38076</th>\n",
       "      <td>46251</td>\n",
       "      <td>Statistik des Kraftfahrzeug- und Anhängerbesta...</td>\n",
       "      <td>STAG</td>\n",
       "      <td>Stichtag</td>\n",
       "      <td>2020-01-01</td>\n",
       "      <td>KREISE</td>\n",
       "      <td>Kreise</td>\n",
       "      <td>8316</td>\n",
       "      <td>Emmendingen, Landkreis</td>\n",
       "      <td>KSTAT1</td>\n",
       "      <td>...</td>\n",
       "      <td>Insgesamt</td>\n",
       "      <td>EMIGR1</td>\n",
       "      <td>Emissionsgruppen</td>\n",
       "      <td>PKW-EURO4</td>\n",
       "      <td>Euro 4</td>\n",
       "      <td>29478</td>\n",
       "      <td>Anzahl</td>\n",
       "      <td>PKW001</td>\n",
       "      <td>Personenkraftwagen</td>\n",
       "      <td>e</td>\n",
       "    </tr>\n",
       "    <tr>\n",
       "      <th>38077</th>\n",
       "      <td>46251</td>\n",
       "      <td>Statistik des Kraftfahrzeug- und Anhängerbesta...</td>\n",
       "      <td>STAG</td>\n",
       "      <td>Stichtag</td>\n",
       "      <td>2020-01-01</td>\n",
       "      <td>KREISE</td>\n",
       "      <td>Kreise</td>\n",
       "      <td>14625</td>\n",
       "      <td>Bautzen, Landkreis</td>\n",
       "      <td>KSTAT1</td>\n",
       "      <td>...</td>\n",
       "      <td>Insgesamt</td>\n",
       "      <td>EMIGR1</td>\n",
       "      <td>Emissionsgruppen</td>\n",
       "      <td>PKW-EURO3</td>\n",
       "      <td>Euro 3</td>\n",
       "      <td>13911</td>\n",
       "      <td>Anzahl</td>\n",
       "      <td>PKW001</td>\n",
       "      <td>Personenkraftwagen</td>\n",
       "      <td>e</td>\n",
       "    </tr>\n",
       "    <tr>\n",
       "      <th>38078</th>\n",
       "      <td>46251</td>\n",
       "      <td>Statistik des Kraftfahrzeug- und Anhängerbesta...</td>\n",
       "      <td>STAG</td>\n",
       "      <td>Stichtag</td>\n",
       "      <td>2020-01-01</td>\n",
       "      <td>KREISE</td>\n",
       "      <td>Kreise</td>\n",
       "      <td>7138</td>\n",
       "      <td>Neuwied, Landkreis</td>\n",
       "      <td>KSTAT1</td>\n",
       "      <td>...</td>\n",
       "      <td>Elektro</td>\n",
       "      <td>EMIGR1</td>\n",
       "      <td>Emissionsgruppen</td>\n",
       "      <td>PKW-EURO3</td>\n",
       "      <td>Euro 3</td>\n",
       "      <td>-</td>\n",
       "      <td>Anzahl</td>\n",
       "      <td>PKW001</td>\n",
       "      <td>Personenkraftwagen</td>\n",
       "      <td>NaN</td>\n",
       "    </tr>\n",
       "    <tr>\n",
       "      <th>38079</th>\n",
       "      <td>46251</td>\n",
       "      <td>Statistik des Kraftfahrzeug- und Anhängerbesta...</td>\n",
       "      <td>STAG</td>\n",
       "      <td>Stichtag</td>\n",
       "      <td>2020-01-01</td>\n",
       "      <td>KREISE</td>\n",
       "      <td>Kreise</td>\n",
       "      <td>9676</td>\n",
       "      <td>Miltenberg, Landkreis</td>\n",
       "      <td>KSTAT1</td>\n",
       "      <td>...</td>\n",
       "      <td>Elektro</td>\n",
       "      <td>EMIGR1</td>\n",
       "      <td>Emissionsgruppen</td>\n",
       "      <td>PKW-EURO6-R</td>\n",
       "      <td>Euro 6 (ohne 6d und 6d-temp)</td>\n",
       "      <td>-</td>\n",
       "      <td>Anzahl</td>\n",
       "      <td>PKW001</td>\n",
       "      <td>Personenkraftwagen</td>\n",
       "      <td>NaN</td>\n",
       "    </tr>\n",
       "  </tbody>\n",
       "</table>\n",
       "<p>38080 rows × 22 columns</p>\n",
       "</div>"
      ],
      "text/plain": [
       "       statistics_code                                   statistics_label  \\\n",
       "0                46251  Statistik des Kraftfahrzeug- und Anhängerbesta...   \n",
       "1                46251  Statistik des Kraftfahrzeug- und Anhängerbesta...   \n",
       "2                46251  Statistik des Kraftfahrzeug- und Anhängerbesta...   \n",
       "3                46251  Statistik des Kraftfahrzeug- und Anhängerbesta...   \n",
       "4                46251  Statistik des Kraftfahrzeug- und Anhängerbesta...   \n",
       "...                ...                                                ...   \n",
       "38075            46251  Statistik des Kraftfahrzeug- und Anhängerbesta...   \n",
       "38076            46251  Statistik des Kraftfahrzeug- und Anhängerbesta...   \n",
       "38077            46251  Statistik des Kraftfahrzeug- und Anhängerbesta...   \n",
       "38078            46251  Statistik des Kraftfahrzeug- und Anhängerbesta...   \n",
       "38079            46251  Statistik des Kraftfahrzeug- und Anhängerbesta...   \n",
       "\n",
       "      time_code time_label        time 1_variable_code 1_variable_label  \\\n",
       "0          STAG   Stichtag  2020-01-01          KREISE           Kreise   \n",
       "1          STAG   Stichtag  2020-01-01          KREISE           Kreise   \n",
       "2          STAG   Stichtag  2020-01-01          KREISE           Kreise   \n",
       "3          STAG   Stichtag  2020-01-01          KREISE           Kreise   \n",
       "4          STAG   Stichtag  2020-01-01          KREISE           Kreise   \n",
       "...         ...        ...         ...             ...              ...   \n",
       "38075      STAG   Stichtag  2020-01-01          KREISE           Kreise   \n",
       "38076      STAG   Stichtag  2020-01-01          KREISE           Kreise   \n",
       "38077      STAG   Stichtag  2020-01-01          KREISE           Kreise   \n",
       "38078      STAG   Stichtag  2020-01-01          KREISE           Kreise   \n",
       "38079      STAG   Stichtag  2020-01-01          KREISE           Kreise   \n",
       "\n",
       "       1_variable_attribute_code      1_variable_attribute_label  \\\n",
       "0                           9273              Kelheim, Landkreis   \n",
       "1                           7231  Bernkastel-Wittlich, Landkreis   \n",
       "2                          12063            Havelland, Landkreis   \n",
       "3                           6438            Offenbach, Landkreis   \n",
       "4                          14523                   Vogtlandkreis   \n",
       "...                          ...                             ...   \n",
       "38075                      16076                Greiz, Landkreis   \n",
       "38076                       8316          Emmendingen, Landkreis   \n",
       "38077                      14625              Bautzen, Landkreis   \n",
       "38078                       7138              Neuwied, Landkreis   \n",
       "38079                       9676           Miltenberg, Landkreis   \n",
       "\n",
       "      2_variable_code  ... 2_variable_attribute_label 3_variable_code  \\\n",
       "0              KSTAT1  ...             Plug-in-Hybrid          EMIGR1   \n",
       "1              KSTAT1  ...                    Elektro          EMIGR1   \n",
       "2              KSTAT1  ...      Hybrid (ohne Plug-in)          EMIGR1   \n",
       "3              KSTAT1  ...   Sonstige Kraftstoffarten          EMIGR1   \n",
       "4              KSTAT1  ...                        Gas          EMIGR1   \n",
       "...               ...  ...                        ...             ...   \n",
       "38075          KSTAT1  ...                    Elektro          EMIGR1   \n",
       "38076          KSTAT1  ...                  Insgesamt          EMIGR1   \n",
       "38077          KSTAT1  ...                  Insgesamt          EMIGR1   \n",
       "38078          KSTAT1  ...                    Elektro          EMIGR1   \n",
       "38079          KSTAT1  ...                    Elektro          EMIGR1   \n",
       "\n",
       "       3_variable_label 3_variable_attribute_code  \\\n",
       "0      Emissionsgruppen                PKW-EURO6D   \n",
       "1      Emissionsgruppen               PKW-EURO6DT   \n",
       "2      Emissionsgruppen                 PKW-EURO5   \n",
       "3      Emissionsgruppen               PKW-EURO6-R   \n",
       "4      Emissionsgruppen                 PKW-EURO5   \n",
       "...                 ...                       ...   \n",
       "38075  Emissionsgruppen               PKW-EURO6DT   \n",
       "38076  Emissionsgruppen                 PKW-EURO4   \n",
       "38077  Emissionsgruppen                 PKW-EURO3   \n",
       "38078  Emissionsgruppen                 PKW-EURO3   \n",
       "38079  Emissionsgruppen               PKW-EURO6-R   \n",
       "\n",
       "         3_variable_attribute_label  value value_unit value_variable_code  \\\n",
       "0                           Euro 6d      2     Anzahl              PKW001   \n",
       "1                      Euro 6d-temp      -     Anzahl              PKW001   \n",
       "2                            Euro 5    281     Anzahl              PKW001   \n",
       "3      Euro 6 (ohne 6d und 6d-temp)      -     Anzahl              PKW001   \n",
       "4                            Euro 5    136     Anzahl              PKW001   \n",
       "...                             ...    ...        ...                 ...   \n",
       "38075                  Euro 6d-temp      -     Anzahl              PKW001   \n",
       "38076                        Euro 4  29478     Anzahl              PKW001   \n",
       "38077                        Euro 3  13911     Anzahl              PKW001   \n",
       "38078                        Euro 3      -     Anzahl              PKW001   \n",
       "38079  Euro 6 (ohne 6d und 6d-temp)      -     Anzahl              PKW001   \n",
       "\n",
       "      value_variable_label value_q  \n",
       "0       Personenkraftwagen       e  \n",
       "1       Personenkraftwagen     NaN  \n",
       "2       Personenkraftwagen       e  \n",
       "3       Personenkraftwagen     NaN  \n",
       "4       Personenkraftwagen       e  \n",
       "...                    ...     ...  \n",
       "38075   Personenkraftwagen     NaN  \n",
       "38076   Personenkraftwagen       e  \n",
       "38077   Personenkraftwagen       e  \n",
       "38078   Personenkraftwagen     NaN  \n",
       "38079   Personenkraftwagen     NaN  \n",
       "\n",
       "[38080 rows x 22 columns]"
      ]
     },
     "execution_count": 3,
     "metadata": {},
     "output_type": "execute_result"
    }
   ],
   "source": [
    "df_veh"
   ]
  },
  {
   "cell_type": "code",
   "execution_count": 4,
   "metadata": {},
   "outputs": [
    {
     "name": "stdout",
     "output_type": "stream",
     "text": [
      "<class 'pandas.core.frame.DataFrame'>\n",
      "RangeIndex: 38080 entries, 0 to 38079\n",
      "Data columns (total 22 columns):\n",
      " #   Column                      Non-Null Count  Dtype \n",
      "---  ------                      --------------  ----- \n",
      " 0   statistics_code             38080 non-null  int64 \n",
      " 1   statistics_label            38080 non-null  object\n",
      " 2   time_code                   38080 non-null  object\n",
      " 3   time_label                  38080 non-null  object\n",
      " 4   time                        38080 non-null  object\n",
      " 5   1_variable_code             38080 non-null  object\n",
      " 6   1_variable_label            38080 non-null  object\n",
      " 7   1_variable_attribute_code   38080 non-null  int64 \n",
      " 8   1_variable_attribute_label  38080 non-null  object\n",
      " 9   2_variable_code             38080 non-null  object\n",
      " 10  2_variable_label            38080 non-null  object\n",
      " 11  2_variable_attribute_code   33320 non-null  object\n",
      " 12  2_variable_attribute_label  38080 non-null  object\n",
      " 13  3_variable_code             38080 non-null  object\n",
      " 14  3_variable_label            38080 non-null  object\n",
      " 15  3_variable_attribute_code   34272 non-null  object\n",
      " 16  3_variable_attribute_label  38080 non-null  object\n",
      " 17  value                       38080 non-null  object\n",
      " 18  value_unit                  38080 non-null  object\n",
      " 19  value_variable_code         38080 non-null  object\n",
      " 20  value_variable_label        38080 non-null  object\n",
      " 21  value_q                     22598 non-null  object\n",
      "dtypes: int64(2), object(20)\n",
      "memory usage: 6.4+ MB\n"
     ]
    }
   ],
   "source": [
    "df_veh.info()"
   ]
  },
  {
   "cell_type": "markdown",
   "metadata": {},
   "source": [
    "### Data corrections"
   ]
  },
  {
   "cell_type": "markdown",
   "metadata": {},
   "source": [
    "### Variable lists"
   ]
  },
  {
   "cell_type": "code",
   "execution_count": null,
   "metadata": {},
   "outputs": [],
   "source": []
  },
  {
   "cell_type": "markdown",
   "metadata": {},
   "source": [
    "### Data splitting"
   ]
  },
  {
   "cell_type": "code",
   "execution_count": null,
   "metadata": {},
   "outputs": [],
   "source": []
  },
  {
   "cell_type": "markdown",
   "metadata": {},
   "source": [
    "## Analysis"
   ]
  },
  {
   "cell_type": "markdown",
   "metadata": {},
   "source": [
    "### Descriptive statistics"
   ]
  },
  {
   "cell_type": "code",
   "execution_count": null,
   "metadata": {},
   "outputs": [],
   "source": []
  },
  {
   "cell_type": "markdown",
   "metadata": {},
   "source": [
    "### Exploratory data analysis"
   ]
  },
  {
   "cell_type": "code",
   "execution_count": null,
   "metadata": {},
   "outputs": [],
   "source": []
  },
  {
   "cell_type": "markdown",
   "metadata": {},
   "source": [
    "### Relationships"
   ]
  },
  {
   "cell_type": "code",
   "execution_count": null,
   "metadata": {},
   "outputs": [],
   "source": []
  },
  {
   "cell_type": "markdown",
   "metadata": {},
   "source": [
    "## Model"
   ]
  },
  {
   "cell_type": "markdown",
   "metadata": {},
   "source": [
    "### Select model"
   ]
  },
  {
   "cell_type": "code",
   "execution_count": null,
   "metadata": {},
   "outputs": [],
   "source": []
  },
  {
   "cell_type": "markdown",
   "metadata": {},
   "source": [
    "### Training and validation"
   ]
  },
  {
   "cell_type": "code",
   "execution_count": null,
   "metadata": {},
   "outputs": [],
   "source": []
  },
  {
   "cell_type": "markdown",
   "metadata": {},
   "source": [
    "### Fit model"
   ]
  },
  {
   "cell_type": "code",
   "execution_count": null,
   "metadata": {},
   "outputs": [],
   "source": []
  },
  {
   "cell_type": "markdown",
   "metadata": {},
   "source": [
    "### Evaluation on test set"
   ]
  },
  {
   "cell_type": "code",
   "execution_count": null,
   "metadata": {},
   "outputs": [],
   "source": []
  },
  {
   "cell_type": "markdown",
   "metadata": {},
   "source": [
    "### Save model\n"
   ]
  },
  {
   "cell_type": "markdown",
   "metadata": {},
   "source": [
    "\n",
    "Save your model in the folder `models/`. Use a meaningful name and a timestamp."
   ]
  },
  {
   "cell_type": "code",
   "execution_count": null,
   "metadata": {},
   "outputs": [],
   "source": []
  },
  {
   "cell_type": "markdown",
   "metadata": {},
   "source": [
    "## Conclusions"
   ]
  },
  {
   "cell_type": "markdown",
   "metadata": {},
   "source": []
  }
 ],
 "metadata": {
  "kernelspec": {
   "display_name": "analytics",
   "language": "python",
   "name": "python3"
  },
  "language_info": {
   "codemirror_mode": {
    "name": "ipython",
    "version": 3
   },
   "file_extension": ".py",
   "mimetype": "text/x-python",
   "name": "python",
   "nbconvert_exporter": "python",
   "pygments_lexer": "ipython3",
   "version": "3.12.7"
  }
 },
 "nbformat": 4,
 "nbformat_minor": 4
}
